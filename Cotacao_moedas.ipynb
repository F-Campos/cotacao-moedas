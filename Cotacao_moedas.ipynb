{
 "cells": [
  {
   "cell_type": "code",
   "execution_count": null,
   "metadata": {},
   "outputs": [],
   "source": [
    "import PySimpleGUI as sg\n",
    "import requests\n",
    "\n",
    "\n",
    "def pegar_cotacoes(codigo_moeda):\n",
    "    try:\n",
    "        requisicao = requests.get(f\"https://economia.awesomeapi.com.br/last/{codigo_moeda}-BRL\")\n",
    "        requisicao_dic = requisicao.json()\n",
    "        cotacao = requisicao_dic[f'{codigo_moeda}BRL']['bid']\n",
    "        return cotacao\n",
    "    \n",
    "    except:\n",
    "        print(\"Código de Moeda Inválido\")\n",
    "        return None\n",
    "\n",
    "layout = [\n",
    "    \n",
    "    [sg.Text('Pegar cotação da moeda')],\n",
    "    [sg.InputText(key='nome_cotacao')],\n",
    "    [sg.Button('Pegar cotação'), sg.Button('Cancelar')],\n",
    "    [sg.Text('', key='texto_cotacao')],\n",
    "]\n",
    "\n",
    "janela = sg.Window('Sistema de cotações', layout)\n",
    "\n",
    "while True:\n",
    "    evento, valores = janela.read()\n",
    "    if evento == sg.WIN_CLOSED or evento == 'Cancelar':\n",
    "        break \n",
    "        \n",
    "    if evento == 'Pegar cotação':\n",
    "        codigo_cotacao = valores['nome_cotacao']\n",
    "        cotacao = pegar_cotacoes(codigo_cotacao)\n",
    "        janela['texto_cotacao'].update(f'Acotação do {codigo_cotacao} é de R${cotacao}')\n",
    "        \n",
    "    \n",
    "\n",
    "janela.close()"
   ]
  },
  {
   "cell_type": "code",
   "execution_count": null,
   "metadata": {},
   "outputs": [],
   "source": []
  }
 ],
 "metadata": {
  "kernelspec": {
   "display_name": "Python 3",
   "language": "python",
   "name": "python3"
  },
  "language_info": {
   "codemirror_mode": {
    "name": "ipython",
    "version": 3
   },
   "file_extension": ".py",
   "mimetype": "text/x-python",
   "name": "python",
   "nbconvert_exporter": "python",
   "pygments_lexer": "ipython3",
   "version": "3.7.6"
  }
 },
 "nbformat": 4,
 "nbformat_minor": 4
}
